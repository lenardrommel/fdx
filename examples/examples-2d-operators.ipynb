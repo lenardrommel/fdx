{
 "cells": [
  {
   "cell_type": "markdown",
   "metadata": {},
   "source": [
    "# 2D Operators: Gradient and Laplacian\n",
    "\n",
    "Compute 2D gradient and Laplacian on a uniform grid with fdx."
   ]
  },
  {
   "cell_type": "code",
   "execution_count": null,
   "metadata": {},
   "outputs": [],
   "source": [
    "import jax.numpy as jnp\n",
    "from fdx import Gradient, Laplacian\n",
    "\n",
    "x = jnp.linspace(0, 2*jnp.pi, 80)\n",
    "y = jnp.linspace(0, 2*jnp.pi, 60)\n",
    "dx = x[1] - x[0]\n",
    "dy = y[1] - y[0]\n",
    "X, Y = jnp.meshgrid(x, y, indexing='ij')\n",
    "f = jnp.sin(X) * jnp.cos(Y)\n",
    "dx, dy, f.shape"
   ]
  },
  {
   "cell_type": "markdown",
   "metadata": {},
   "source": [
    "## Gradient"
   ]
  },
  {
   "cell_type": "code",
   "execution_count": null,
   "metadata": {},
   "outputs": [],
   "source": [
    "grad = Gradient(h=[dx, dy], acc=6)\n",
    "gx, gy = grad(f)\n",
    "exp_gx = jnp.cos(X) * jnp.cos(Y)\n",
    "exp_gy = -jnp.sin(X) * jnp.sin(Y)\n",
    "float(jnp.max(jnp.abs(gx - exp_gx))), float(jnp.max(jnp.abs(gy - exp_gy)))"
   ]
  },
  {
   "cell_type": "markdown",
   "metadata": {},
   "source": [
    "## Laplacian\n",
    "For f = sin(X) cos(Y), ∆f = -2 sin(X) cos(Y)."
   ]
  },
  {
   "cell_type": "code",
   "execution_count": null,
   "metadata": {},
   "outputs": [],
   "source": [
    "lap = Laplacian(h=[dx, dy], acc=4)\n",
    "lf = lap(f)\n",
    "exp_lf = -2.0 * jnp.sin(X) * jnp.cos(Y)\n",
    "float(jnp.max(jnp.abs(lf - exp_lf)))"
   ]
  }
 ],
 "metadata": {
  "kernelspec": {
   "display_name": "Python 3",
   "language": "python",
   "name": "python3"
  },
  "language_info": {
   "name": "python",
   "version": "3"
  }
 },
 "nbformat": 4,
 "nbformat_minor": 5
}

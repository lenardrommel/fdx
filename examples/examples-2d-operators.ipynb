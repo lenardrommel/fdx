{
 "cells": [
  {
   "cell_type": "markdown",
   "metadata": {},
   "source": [
    "# 2D Operators: Gradient and Laplacian\n",
    "\n",
    "Compute 2D gradient and Laplacian on a uniform grid with fdx."
   ]
  },
  {
   "cell_type": "code",
   "execution_count": 1,
   "metadata": {},
   "outputs": [
    {
     "data": {
      "text/plain": [
       "(Array(0.07953399, dtype=float64), Array(0.10649467, dtype=float64), (80, 60))"
      ]
     },
     "execution_count": 1,
     "metadata": {},
     "output_type": "execute_result"
    }
   ],
   "source": [
    "import jax.numpy as jnp\n",
    "from fdx import Gradient, Laplacian\n",
    "\n",
    "x = jnp.linspace(0, 2*jnp.pi, 80)\n",
    "y = jnp.linspace(0, 2*jnp.pi, 60)\n",
    "dx = x[1] - x[0]\n",
    "dy = y[1] - y[0]\n",
    "X, Y = jnp.meshgrid(x, y, indexing='ij')\n",
    "f = jnp.sin(X) * jnp.cos(Y)\n",
    "dx, dy, f.shape"
   ]
  },
  {
   "cell_type": "markdown",
   "metadata": {},
   "source": [
    "## Gradient"
   ]
  },
  {
   "cell_type": "code",
   "execution_count": 2,
   "metadata": {},
   "outputs": [
    {
     "data": {
      "text/plain": [
       "(3.531834402714651e-08, 9.823939547959348e-08)"
      ]
     },
     "execution_count": 2,
     "metadata": {},
     "output_type": "execute_result"
    }
   ],
   "source": [
    "grad = Gradient(h=[dx, dy], acc=6)\n",
    "gx, gy = grad(f)\n",
    "exp_gx = jnp.cos(X) * jnp.cos(Y)\n",
    "exp_gy = -jnp.sin(X) * jnp.sin(Y)\n",
    "float(jnp.max(jnp.abs(gx - exp_gx))), float(jnp.max(jnp.abs(gy - exp_gy)))"
   ]
  },
  {
   "cell_type": "markdown",
   "metadata": {},
   "source": [
    "## Laplacian\n",
    "For $f(X, Y) = sin(X) cos(Y)$, \n",
    "$∆f = -2 sin(X) cos(Y)$."
   ]
  },
  {
   "cell_type": "code",
   "execution_count": 3,
   "metadata": {},
   "outputs": [
    {
     "data": {
      "text/plain": [
       "9.569101869244534e-05"
      ]
     },
     "execution_count": 3,
     "metadata": {},
     "output_type": "execute_result"
    }
   ],
   "source": [
    "lap = Laplacian(h=[dx, dy], acc=4)\n",
    "lf = lap(f)\n",
    "exp_lf = -2.0 * jnp.sin(X) * jnp.cos(Y)\n",
    "float(jnp.max(jnp.abs(lf - exp_lf)))"
   ]
  }
 ],
 "metadata": {
  "kernelspec": {
   "display_name": ".venv (3.12.3)",
   "language": "python",
   "name": "python3"
  },
  "language_info": {
   "codemirror_mode": {
    "name": "ipython",
    "version": 3
   },
   "file_extension": ".py",
   "mimetype": "text/x-python",
   "name": "python",
   "nbconvert_exporter": "python",
   "pygments_lexer": "ipython3",
   "version": "3.12.3"
  }
 },
 "nbformat": 4,
 "nbformat_minor": 5
}

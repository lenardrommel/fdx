{
 "cells": [
  {
   "cell_type": "markdown",
   "metadata": {},
   "source": [
    "# 1D Derivatives with fdx\n",
    "\n",
    "This notebook shows how to compute first and second derivatives on a uniform grid, and demonstrates accuracy control via `acc`."
   ]
  },
  {
   "cell_type": "code",
   "execution_count": 1,
   "metadata": {},
   "outputs": [
    {
     "data": {
      "text/plain": [
       "(Array([0.        , 0.06346652, 0.12693304, 0.19039955, 0.25386607],      dtype=float64),\n",
       " Array(0.06346652, dtype=float64))"
      ]
     },
     "execution_count": 1,
     "metadata": {},
     "output_type": "execute_result"
    }
   ],
   "source": [
    "import jax.numpy as jnp\n",
    "from fdx import Diff\n",
    "\n",
    "x = jnp.linspace(0, 2*jnp.pi, 100)\n",
    "dx = x[1] - x[0]\n",
    "x[:5], dx"
   ]
  },
  {
   "cell_type": "markdown",
   "metadata": {},
   "source": [
    "## First derivative of sin(x)\n",
    "We expect d/dx sin(x) = cos(x)."
   ]
  },
  {
   "cell_type": "code",
   "execution_count": 2,
   "metadata": {},
   "outputs": [
    {
     "name": "stdout",
     "output_type": "stream",
     "text": [
      "acc=2: max abs error = 1.341e-03\n",
      "acc=4: max abs error = 3.225e-06\n",
      "acc=6: max abs error = 9.198e-09\n"
     ]
    }
   ],
   "source": [
    "f = jnp.sin(x)\n",
    "for acc in [2, 4, 6]:\n",
    "    d_dx = Diff(0, grid=dx, acc=acc)\n",
    "    df = d_dx(f)\n",
    "    err = jnp.max(jnp.abs(df - jnp.cos(x)))\n",
    "    print(f'acc={acc}: max abs error = {float(err):.3e}')"
   ]
  },
  {
   "cell_type": "markdown",
   "metadata": {},
   "source": [
    "## Second derivative via exponentiation\n",
    "We expect d^2/dx^2 x^4 = 12 x^2."
   ]
  },
  {
   "cell_type": "code",
   "execution_count": 3,
   "metadata": {},
   "outputs": [
    {
     "data": {
      "text/plain": [
       "1.0161897989746649e-09"
      ]
     },
     "execution_count": 3,
     "metadata": {},
     "output_type": "execute_result"
    }
   ],
   "source": [
    "f_poly = x**4\n",
    "d2_dx2 = Diff(0, grid=dx, acc=4) ** 2\n",
    "d2f = d2_dx2(f_poly)\n",
    "err = jnp.max(jnp.abs(d2f - 12 * x**2))\n",
    "float(err)"
   ]
  },
  {
   "cell_type": "markdown",
   "metadata": {},
   "source": [
    "## Non-uniform coordinates\n",
    "Pass coordinates to `Diff` to use non-uniform stencils automatically."
   ]
  },
  {
   "cell_type": "code",
   "execution_count": 4,
   "metadata": {},
   "outputs": [
    {
     "ename": "TracerBoolConversionError",
     "evalue": "Attempted boolean conversion of traced array with shape bool[].\nThe error occurred while tracing the function body at /Users/lenardrommel/repos/fdx/fdx/findiff.py:258 for fori_loop. This concrete value was not available in Python because it depends on the value of the argument i.\nSee https://docs.jax.dev/en/latest/errors.html#jax.errors.TracerBoolConversionError",
     "output_type": "error",
     "traceback": [
      "\u001b[31m---------------------------------------------------------------------------\u001b[39m",
      "\u001b[31mTracerBoolConversionError\u001b[39m                 Traceback (most recent call last)",
      "\u001b[36mCell\u001b[39m\u001b[36m \u001b[39m\u001b[32mIn[4]\u001b[39m\u001b[32m, line 4\u001b[39m\n\u001b[32m      2\u001b[39m f_nonuni = jnp.sin(coords)\n\u001b[32m      3\u001b[39m d_dx_nonuni = Diff(\u001b[32m0\u001b[39m, grid=coords, acc=\u001b[32m4\u001b[39m)\n\u001b[32m----> \u001b[39m\u001b[32m4\u001b[39m df_nonuni = \u001b[43md_dx_nonuni\u001b[49m\u001b[43m(\u001b[49m\u001b[43mf_nonuni\u001b[49m\u001b[43m)\u001b[49m\n\u001b[32m      5\u001b[39m coords, df_nonuni[:\u001b[32m5\u001b[39m]\n",
      "\u001b[36mFile \u001b[39m\u001b[32m~/repos/fdx/fdx/operators.py:204\u001b[39m, in \u001b[36mDiff.__call__\u001b[39m\u001b[34m(self, f, *args, **kwargs)\u001b[39m\n\u001b[32m    201\u001b[39m \u001b[38;5;28;01mif\u001b[39;00m \u001b[38;5;28misinstance\u001b[39m(f, Expression):\n\u001b[32m    202\u001b[39m     f = f(*args, **kwargs)\n\u001b[32m--> \u001b[39m\u001b[32m204\u001b[39m \u001b[38;5;28;01mreturn\u001b[39;00m \u001b[38;5;28;43mself\u001b[39;49m\u001b[43m.\u001b[49m\u001b[43mdifferentiator\u001b[49m\u001b[43m(\u001b[49m\u001b[43mf\u001b[49m\u001b[43m)\u001b[49m\n",
      "\u001b[36mFile \u001b[39m\u001b[32m~/repos/fdx/fdx/findiff.py:271\u001b[39m, in \u001b[36m_FinDiffNonUniform.__call__\u001b[39m\u001b[34m(self, y)\u001b[39m\n\u001b[32m    268\u001b[39m     acc_arr = acc_arr.at[i].set(val)\n\u001b[32m    269\u001b[39m     \u001b[38;5;28;01mreturn\u001b[39;00m acc_arr\n\u001b[32m--> \u001b[39m\u001b[32m271\u001b[39m yd_m = \u001b[43mlax\u001b[49m\u001b[43m.\u001b[49m\u001b[43mfori_loop\u001b[49m\u001b[43m(\u001b[49m\u001b[32;43m0\u001b[39;49m\u001b[43m,\u001b[49m\u001b[43m \u001b[49m\u001b[43mn\u001b[49m\u001b[43m,\u001b[49m\u001b[43m \u001b[49m\u001b[43mbody\u001b[49m\u001b[43m,\u001b[49m\u001b[43m \u001b[49m\u001b[43myd_m\u001b[49m\u001b[43m)\u001b[49m\n\u001b[32m    272\u001b[39m \u001b[38;5;66;03m# Move axis back to original place\u001b[39;00m\n\u001b[32m    273\u001b[39m \u001b[38;5;28;01mreturn\u001b[39;00m jnp.moveaxis(yd_m, \u001b[32m0\u001b[39m, \u001b[38;5;28mself\u001b[39m.axis)\n",
      "    \u001b[31m[... skipping hidden 13 frame]\u001b[39m\n",
      "\u001b[36mFile \u001b[39m\u001b[32m~/repos/fdx/fdx/findiff.py:259\u001b[39m, in \u001b[36m_FinDiffNonUniform.__call__.<locals>.body\u001b[39m\u001b[34m(i, acc_arr)\u001b[39m\n\u001b[32m    258\u001b[39m \u001b[38;5;28;01mdef\u001b[39;00m\u001b[38;5;250m \u001b[39m\u001b[34mbody\u001b[39m(i, acc_arr):\n\u001b[32m--> \u001b[39m\u001b[32m259\u001b[39m     coef = \u001b[43mcoefficients_non_uni\u001b[49m\u001b[43m(\u001b[49m\u001b[38;5;28;43mself\u001b[39;49m\u001b[43m.\u001b[49m\u001b[43morder\u001b[49m\u001b[43m,\u001b[49m\u001b[43m \u001b[49m\u001b[38;5;28;43mself\u001b[39;49m\u001b[43m.\u001b[49m\u001b[43macc\u001b[49m\u001b[43m,\u001b[49m\u001b[43m \u001b[49m\u001b[38;5;28;43mself\u001b[39;49m\u001b[43m.\u001b[49m\u001b[43mcoords\u001b[49m\u001b[43m,\u001b[49m\u001b[43m \u001b[49m\u001b[43mi\u001b[49m\u001b[43m)\u001b[49m\n\u001b[32m    260\u001b[39m     ws = coef[\u001b[33m\"\u001b[39m\u001b[33mcoefficients\u001b[39m\u001b[33m\"\u001b[39m]  \u001b[38;5;66;03m# (k,)\u001b[39;00m\n\u001b[32m    261\u001b[39m     offs = coef[\u001b[33m\"\u001b[39m\u001b[33moffsets\u001b[39m\u001b[33m\"\u001b[39m].astype(jnp.int32)  \u001b[38;5;66;03m# (k,)\u001b[39;00m\n",
      "\u001b[36mFile \u001b[39m\u001b[32m~/repos/fdx/fdx/coefs.py:91\u001b[39m, in \u001b[36mcoefficients_non_uni\u001b[39m\u001b[34m(deriv, acc, coords, idx)\u001b[39m\n\u001b[32m     88\u001b[39m \u001b[38;5;28;01melse\u001b[39;00m:\n\u001b[32m     89\u001b[39m     num_coef = num_central\n\u001b[32m---> \u001b[39m\u001b[32m91\u001b[39m \u001b[38;5;28;01mif\u001b[39;00m idx < num_side:\n\u001b[32m     92\u001b[39m     matrix = _build_matrix_non_uniform(\u001b[32m0\u001b[39m, num_coef - \u001b[32m1\u001b[39m, coords, idx)\n\u001b[32m     94\u001b[39m     offsets = \u001b[38;5;28mlist\u001b[39m(\u001b[38;5;28mrange\u001b[39m(num_coef))\n",
      "    \u001b[31m[... skipping hidden 1 frame]\u001b[39m\n",
      "\u001b[36mFile \u001b[39m\u001b[32m~/repos/fdx/.venv/lib/python3.12/site-packages/jax/_src/core.py:1721\u001b[39m, in \u001b[36mconcretization_function_error.<locals>.error\u001b[39m\u001b[34m(self, arg)\u001b[39m\n\u001b[32m   1720\u001b[39m \u001b[38;5;28;01mdef\u001b[39;00m\u001b[38;5;250m \u001b[39m\u001b[34merror\u001b[39m(\u001b[38;5;28mself\u001b[39m, arg):\n\u001b[32m-> \u001b[39m\u001b[32m1721\u001b[39m   \u001b[38;5;28;01mraise\u001b[39;00m TracerBoolConversionError(arg)\n",
      "\u001b[31mTracerBoolConversionError\u001b[39m: Attempted boolean conversion of traced array with shape bool[].\nThe error occurred while tracing the function body at /Users/lenardrommel/repos/fdx/fdx/findiff.py:258 for fori_loop. This concrete value was not available in Python because it depends on the value of the argument i.\nSee https://docs.jax.dev/en/latest/errors.html#jax.errors.TracerBoolConversionError"
     ]
    }
   ],
   "source": [
    "coords = jnp.cumsum(jnp.array([0.05, 0.07, 0.06, 0.05, 0.09, 0.04, 0.08, 0.06, 0.07, 0.05]))\n",
    "f_nonuni = jnp.sin(coords)\n",
    "d_dx_nonuni = Diff(0, grid=coords, acc=4)\n",
    "df_nonuni = d_dx_nonuni(f_nonuni)\n",
    "coords, df_nonuni[:5]"
   ]
  }
 ],
 "metadata": {
  "kernelspec": {
   "display_name": ".venv (3.12.3)",
   "language": "python",
   "name": "python3"
  },
  "language_info": {
   "codemirror_mode": {
    "name": "ipython",
    "version": 3
   },
   "file_extension": ".py",
   "mimetype": "text/x-python",
   "name": "python",
   "nbconvert_exporter": "python",
   "pygments_lexer": "ipython3",
   "version": "3.12.3"
  }
 },
 "nbformat": 4,
 "nbformat_minor": 5
}

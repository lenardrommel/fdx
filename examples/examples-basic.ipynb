{
 "cells": [
  {
   "cell_type": "markdown",
   "metadata": {},
   "source": [
    "# Basic Examples of _findiff_\n",
    "\n",
    "_findiff_ works in any dimension. But for the sake of demonstration, let's concentrate on the cases 1D and 3D. We are using uniform, i.e. equidistant, grids here. The non-uniform case will be shown in another notebook."
   ]
  },
  {
   "cell_type": "markdown",
   "metadata": {},
   "source": [
    "## Preliminaries\n",
    "\n",
    "Our imports:"
   ]
  },
  {
   "cell_type": "code",
   "execution_count": 1,
   "metadata": {
    "collapsed": false,
    "jupyter": {
     "is_executing": true,
     "outputs_hidden": false
    }
   },
   "outputs": [],
   "source": [
    "from jax import numpy as jnp\n",
    "\n",
    "from fdx import Diff"
   ]
  },
  {
   "cell_type": "markdown",
   "metadata": {},
   "source": [
    "## Simple 1D Cases\n",
    "\n",
    "Suppose we want to differentiate two 1D-arrays `f` and `g`, which are filled with values from a function\n",
    "\n",
    "$$\n",
    "f(x) = \\sin(x) \\quad \\text{and}\\quad g(x) = \\cos(x)\n",
    "$$\n",
    "\n",
    "and we want to take the 2nd derivative. This is easy done analytically:\n",
    "\n",
    "$$\n",
    "\\frac{d^2f}{dx^2} = -\\sin(x) \\quad \\text{and}\\quad \\frac{d^2g}{dx^2} = -\\cos(x)\n",
    "$$\n",
    "\n",
    "Let's do this numerically with _findiff_. First we set up the grid and the arrays:"
   ]
  },
  {
   "cell_type": "code",
   "execution_count": 2,
   "metadata": {},
   "outputs": [],
   "source": [
    "x = jnp.linspace(0, 10, 100)\n",
    "dx = x[1] - x[0]\n",
    "f = jnp.sin(x)\n",
    "g = jnp.cos(x)"
   ]
  },
  {
   "cell_type": "markdown",
   "metadata": {},
   "source": [
    "Then we construct the derivative object, which represents the differential operator $\\frac{d^2}{dx^2}$:"
   ]
  },
  {
   "cell_type": "code",
   "execution_count": 3,
   "metadata": {},
   "outputs": [],
   "source": [
    "d2_dx2 = Diff(0, dx, acc=2)"
   ]
  },
  {
   "cell_type": "markdown",
   "metadata": {},
   "source": [
    "The first parameter is the axis along which to take the derivative. Since we want to apply it to the one and only axis of the 1D array, this is a 0. The second parameter is the grid spacing, the third parameter the derivative order you want, in our case 2. If you want a first derivative, you can skip the third argument as it defaults to 1.\n",
    "\n",
    "Then we apply the operator to f and g, respectively:"
   ]
  },
  {
   "cell_type": "code",
   "execution_count": 4,
   "metadata": {},
   "outputs": [],
   "source": [
    "result_f = d2_dx2(f)\n",
    "result_g = d2_dx2(g)"
   ]
  },
  {
   "cell_type": "markdown",
   "metadata": {},
   "source": [
    "That's it! The arrays `result_f`and `result_g` have the same shape as the arrays `f` and `g` and contain the values of the second derivatives."
   ]
  },
  {
   "cell_type": "markdown",
   "metadata": {},
   "source": [
    "#### Finite Difference Coefficients\n",
    "\n",
    "By default the `FinDiff` class uses second order accuracy. For the second derivative, it uses the following finite difference coefficients:"
   ]
  },
  {
   "cell_type": "code",
   "execution_count": 5,
   "metadata": {
    "collapsed": false,
    "jupyter": {
     "outputs_hidden": false
    }
   },
   "outputs": [
    {
     "data": {
      "text/plain": [
       "{'center': {'coefficients': Array([ 1., -2.,  1.], dtype=float64),\n",
       "  'offsets': Array([-1,  0,  1], dtype=int32),\n",
       "  'accuracy': Array(2, dtype=int64)},\n",
       " 'forward': {'coefficients': Array([ 2., -5.,  4., -1.], dtype=float64),\n",
       "  'offsets': Array([0, 1, 2, 3], dtype=int32),\n",
       "  'accuracy': Array(2, dtype=int64)},\n",
       " 'backward': {'coefficients': Array([-1.,  4., -5.,  2.], dtype=float64),\n",
       "  'offsets': Array([-3, -2, -1,  0], dtype=int32),\n",
       "  'accuracy': Array(2, dtype=int64)}}"
      ]
     },
     "execution_count": 5,
     "metadata": {},
     "output_type": "execute_result"
    }
   ],
   "source": [
    "from fdx import coefficients\n",
    "\n",
    "coefficients(deriv=2, acc=2)"
   ]
  },
  {
   "cell_type": "markdown",
   "metadata": {},
   "source": [
    "But `FinDiff` can handle any accuracy order. For instance, have you ever wondered, what the 10th order accurate coefficients look like? Here they are:"
   ]
  },
  {
   "cell_type": "code",
   "execution_count": 6,
   "metadata": {
    "collapsed": false,
    "jupyter": {
     "outputs_hidden": false
    }
   },
   "outputs": [
    {
     "data": {
      "text/plain": [
       "{'center': {'coefficients': Array([ 3.17460317e-04, -4.96031746e-03,  3.96825397e-02, -2.38095238e-01,\n",
       "          1.66666667e+00, -2.92722222e+00,  1.66666667e+00, -2.38095238e-01,\n",
       "          3.96825397e-02, -4.96031746e-03,  3.17460317e-04], dtype=float64),\n",
       "  'offsets': Array([-5, -4, -3, -2, -1,  0,  1,  2,  3,  4,  5], dtype=int32),\n",
       "  'accuracy': Array(10, dtype=int64)},\n",
       " 'forward': {'coefficients': Array([   7.56162671,  -44.43730286,  138.59326784, -295.51988848,\n",
       "          457.02985489, -521.11345584,  439.39455803, -271.26197973,\n",
       "          119.41372514,  -35.55159802,    6.42373215,   -0.53253985],      dtype=float64),\n",
       "  'offsets': Array([ 0,  1,  2,  3,  4,  5,  6,  7,  8,  9, 10, 11], dtype=int32),\n",
       "  'accuracy': Array(3, dtype=int64)},\n",
       " 'backward': {'coefficients': Array([  -0.53253968,    6.42373016,  -35.55158729,  119.41369044,\n",
       "         -271.26190469,  439.39444434, -521.11333321,  457.02976181,\n",
       "         -295.51984122,  138.59325395,  -44.43730158,    7.56162698],      dtype=float64),\n",
       "  'offsets': Array([-11, -10,  -9,  -8,  -7,  -6,  -5,  -4,  -3,  -2,  -1,   0], dtype=int32),\n",
       "  'accuracy': Array(7, dtype=int64)}}"
      ]
     },
     "execution_count": 6,
     "metadata": {},
     "output_type": "execute_result"
    }
   ],
   "source": [
    "coefficients(deriv=2, acc=10)"
   ]
  },
  {
   "cell_type": "markdown",
   "metadata": {},
   "source": [
    "#### Accuracy order\n",
    "\n",
    "If you want to use for example 10th order accuracy, just tell the `FinDiff` constructor to use it:"
   ]
  },
  {
   "cell_type": "code",
   "execution_count": 7,
   "metadata": {
    "collapsed": false,
    "jupyter": {
     "outputs_hidden": false
    }
   },
   "outputs": [],
   "source": [
    "from fdx import FinDiff\n",
    "\n",
    "d2_dx2 = FinDiff(0, dx, 2, acc=10)\n",
    "result = d2_dx2(f)"
   ]
  },
  {
   "cell_type": "markdown",
   "metadata": {},
   "source": [
    "## Simple 3D Cases"
   ]
  },
  {
   "cell_type": "markdown",
   "metadata": {},
   "source": [
    "Now let's differentiate a 3D-array `f` representing the function\n",
    "\n",
    "$$\n",
    "f(x, y, z) = \\sin(x) \\cos(y) \\sin(z) \n",
    "$$\n"
   ]
  },
  {
   "cell_type": "code",
   "execution_count": 8,
   "metadata": {},
   "outputs": [],
   "source": [
    "x, y, z = [jnp.linspace(0, 10, 100)]*3\n",
    "dx, dy, dz = x[1] - x[0], y[1] - y[0], z[1] - z[0]\n",
    "X, Y, Z = jnp.meshgrid(x, y, z, indexing='ij')\n",
    "f = jnp.sin(X) * jnp.cos(Y) * jnp.sin(Z)"
   ]
  },
  {
   "cell_type": "markdown",
   "metadata": {},
   "source": [
    "The partial derivatives $\\frac{\\partial f}{\\partial x}$ or $\\frac{\\partial f}{\\partial z}$ are given by"
   ]
  },
  {
   "cell_type": "code",
   "execution_count": 9,
   "metadata": {},
   "outputs": [],
   "source": [
    "d_dx = FinDiff(0, dx)\n",
    "d_dz = FinDiff(2, dz)"
   ]
  },
  {
   "cell_type": "markdown",
   "metadata": {},
   "source": [
    "The x-axis is the 0th axis, y, the first, z the 2nd, etc. The third mixed partial derivative $\\frac{\\partial^3 f}{\\partial x^2 \\partial y}$ is specified by two tuples as arguments, one for each partial derivative:"
   ]
  },
  {
   "cell_type": "code",
   "execution_count": 10,
   "metadata": {},
   "outputs": [],
   "source": [
    "d3_dx2dy = FinDiff((0, dx, 2), (1, dy))\n",
    "result = d3_dx2dy(f)"
   ]
  },
  {
   "cell_type": "markdown",
   "metadata": {},
   "source": [
    "Of course, the accuracy order can be specified the same way as for 1D."
   ]
  },
  {
   "cell_type": "markdown",
   "metadata": {},
   "source": [
    "## General Linear Differential Operators\n",
    "\n",
    "`FinDiff` objects can bei added and easily multiplied by numbers. For example, to express\n",
    "\n",
    "$$\n",
    "\\frac{\\partial^2}{\\partial x^2} + 2\\frac{\\partial^2}{\\partial x \\partial y} + \\frac{\\partial^2}{\\partial y^2} =\n",
    "\\left(\\frac{\\partial}{\\partial x} + \\frac{\\partial}{\\partial y}\\right) \\left(\\frac{\\partial}{\\partial x} + \\frac{\\partial}{\\partial y}\\right)\n",
    "$$\n",
    "\n",
    "we can say"
   ]
  },
  {
   "cell_type": "code",
   "execution_count": 11,
   "metadata": {
    "collapsed": false,
    "jupyter": {
     "outputs_hidden": false
    }
   },
   "outputs": [],
   "source": [
    "linear_op = FinDiff(0, dx, 2) + 2 * FinDiff((0, dx), (1, dy)) + FinDiff(1, dy, 2)"
   ]
  },
  {
   "cell_type": "markdown",
   "metadata": {},
   "source": [
    "#### Variable Coefficients\n",
    "\n",
    "If you want to multiply by variables instead of plain numbers, you have to encapsulate the variable in a `Coefficient` object. For example, \n",
    "\n",
    "$$\n",
    "x \\frac{\\partial}{\\partial x} + y^2 \\frac{\\partial}{\\partial y}\n",
    "$$\n",
    "\n",
    "is"
   ]
  },
  {
   "cell_type": "code",
   "execution_count": 12,
   "metadata": {},
   "outputs": [],
   "source": [
    "from fdx import Coefficient\n",
    "\n",
    "linear_op = Coefficient(X) * FinDiff(0, dx) + Coefficient(Y**2) * FinDiff(1, dy)"
   ]
  },
  {
   "cell_type": "markdown",
   "metadata": {},
   "source": [
    "Applying those general operators works the same way as for the simple derivatives:"
   ]
  },
  {
   "cell_type": "code",
   "execution_count": 13,
   "metadata": {},
   "outputs": [],
   "source": [
    "result = linear_op(f)"
   ]
  }
 ],
 "metadata": {
  "kernelspec": {
   "display_name": ".venv (3.12.3)",
   "language": "python",
   "name": "python3"
  },
  "language_info": {
   "codemirror_mode": {
    "name": "ipython",
    "version": 3
   },
   "file_extension": ".py",
   "mimetype": "text/x-python",
   "name": "python",
   "nbconvert_exporter": "python",
   "pygments_lexer": "ipython3",
   "version": "3.12.3"
  }
 },
 "nbformat": 4,
 "nbformat_minor": 4
}

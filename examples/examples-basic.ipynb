{
 "cells": [
  {
   "cell_type": "markdown",
   "metadata": {},
   "source": [
    "# Basic Examples of _findiff_\n",
    "\n",
    "_findiff_ works in any dimension. But for the sake of demonstration, let's concentrate on the cases 1D and 3D. We are using uniform, i.e. equidistant, grids here. The non-uniform case will be shown in another notebook."
   ]
  },
  {
   "cell_type": "markdown",
   "metadata": {},
   "source": [
    "## Preliminaries\n",
    "\n",
    "Our imports:"
   ]
  },
  {
   "cell_type": "code",
   "execution_count": 4,
   "metadata": {
    "collapsed": false,
    "jupyter": {
     "is_executing": true,
     "outputs_hidden": false
    }
   },
   "outputs": [],
   "source": [
    "from jax import numpy as jnp\n",
    "\n",
    "from fdx import Diff"
   ]
  },
  {
   "cell_type": "markdown",
   "metadata": {},
   "source": [
    "## Simple 1D Cases\n",
    "\n",
    "Suppose we want to differentiate two 1D-arrays `f` and `g`, which are filled with values from a function\n",
    "\n",
    "$$\n",
    "f(x) = \\sin(x) \\quad \\text{and}\\quad g(x) = \\cos(x)\n",
    "$$\n",
    "\n",
    "and we want to take the 2nd derivative. This is easy done analytically:\n",
    "\n",
    "$$\n",
    "\\frac{d^2f}{dx^2} = -\\sin(x) \\quad \\text{and}\\quad \\frac{d^2g}{dx^2} = -\\cos(x)\n",
    "$$\n",
    "\n",
    "Let's do this numerically with _findiff_. First we set up the grid and the arrays:"
   ]
  },
  {
   "cell_type": "code",
   "execution_count": 5,
   "metadata": {},
   "outputs": [],
   "source": [
    "x = jnp.linspace(0, 10, 100)\n",
    "dx = x[1] - x[0]\n",
    "f = jnp.sin(x)\n",
    "g = jnp.cos(x)"
   ]
  },
  {
   "cell_type": "markdown",
   "metadata": {},
   "source": [
    "Then we construct the derivative object, which represents the differential operator $\\frac{d^2}{dx^2}$:"
   ]
  },
  {
   "cell_type": "code",
   "execution_count": 6,
   "metadata": {},
   "outputs": [],
   "source": [
    "d2_dx2 = Diff(0, dx, acc=2)"
   ]
  },
  {
   "cell_type": "markdown",
   "metadata": {},
   "source": [
    "The first parameter is the axis along which to take the derivative. Since we want to apply it to the one and only axis of the 1D array, this is a 0. The second parameter is the grid spacing, the third parameter the derivative order you want, in our case 2. If you want a first derivative, you can skip the third argument as it defaults to 1.\n",
    "\n",
    "Then we apply the operator to f and g, respectively:"
   ]
  },
  {
   "cell_type": "code",
   "execution_count": 7,
   "metadata": {},
   "outputs": [],
   "source": [
    "result_f = d2_dx2(f)\n",
    "result_g = d2_dx2(g)"
   ]
  },
  {
   "cell_type": "markdown",
   "metadata": {},
   "source": [
    "That's it! The arrays `result_f`and `result_g` have the same shape as the arrays `f` and `g` and contain the values of the second derivatives."
   ]
  },
  {
   "cell_type": "markdown",
   "metadata": {},
   "source": [
    "#### Finite Difference Coefficients\n",
    "\n",
    "By default the `FinDiff` class uses second order accuracy. For the second derivative, it uses the following finite difference coefficients:"
   ]
  },
  {
   "cell_type": "code",
   "execution_count": 8,
   "metadata": {
    "collapsed": false,
    "jupyter": {
     "outputs_hidden": false
    }
   },
   "outputs": [
    {
     "data": {
      "text/plain": [
       "{'center': {'coefficients': Array([ 1., -2.,  1.], dtype=float32),\n",
       "  'offsets': Array([-1,  0,  1], dtype=int32),\n",
       "  'accuracy': 2},\n",
       " 'forward': {'coefficients': Array([ 2.       , -4.9999995,  3.9999995, -0.9999999], dtype=float32),\n",
       "  'offsets': Array([0, 1, 2, 3], dtype=int32),\n",
       "  'accuracy': 2},\n",
       " 'backward': {'coefficients': Array([-1.0000002,  4.000001 , -5.0000014,  2.000001 ], dtype=float32),\n",
       "  'offsets': Array([-3, -2, -1,  0], dtype=int32),\n",
       "  'accuracy': 2}}"
      ]
     },
     "execution_count": 8,
     "metadata": {},
     "output_type": "execute_result"
    }
   ],
   "source": [
    "from fdx import coefficients\n",
    "\n",
    "coefficients(deriv=2, acc=2)"
   ]
  },
  {
   "cell_type": "markdown",
   "metadata": {},
   "source": [
    "But `FinDiff` can handle any accuracy order. For instance, have you ever wondered, what the 10th order accurate coefficients look like? Here they are:"
   ]
  },
  {
   "cell_type": "code",
   "execution_count": 9,
   "metadata": {
    "collapsed": false,
    "jupyter": {
     "outputs_hidden": false
    }
   },
   "outputs": [
    {
     "data": {
      "text/plain": [
       "{'center': {'coefficients': Array([ 3.1744901e-04, -4.9601770e-03,  3.9681721e-02, -2.3809293e-01,\n",
       "          1.6666629e+00, -2.9272256e+00,  1.6666741e+00, -2.3809946e-01,\n",
       "          3.9683565e-02, -4.9604829e-03,  3.1747323e-04], dtype=float32),\n",
       "  'offsets': Array([-5, -4, -3, -2, -1,  0,  1,  2,  3,  4,  5], dtype=int32),\n",
       "  'accuracy': 1},\n",
       " 'forward': {'coefficients': Array([  3.886053  , -12.239338  ,  14.595838  ,  -6.3827343 ,\n",
       "          -4.203699  ,   8.571215  ,  -5.951184  ,   1.7408129 ,\n",
       "           0.26981813,  -0.4003601 ,   0.12865865,  -0.0150808 ],      dtype=float32),\n",
       "  'offsets': Array([ 0,  1,  2,  3,  4,  5,  6,  7,  8,  9, 10, 11], dtype=int32),\n",
       "  'accuracy': 1},\n",
       " 'backward': {'coefficients': Array([  -0.5537981,    6.6648746,  -36.79572  ,  123.26714  ,\n",
       "         -279.22177  ,  450.90286  , -532.983    ,  465.73615  ,\n",
       "         -299.93546  ,  140.03792  ,  -44.696243 ,    7.5770097],      dtype=float32),\n",
       "  'offsets': Array([-11, -10,  -9,  -8,  -7,  -6,  -5,  -4,  -3,  -2,  -1,   0], dtype=int32),\n",
       "  'accuracy': 1}}"
      ]
     },
     "execution_count": 9,
     "metadata": {},
     "output_type": "execute_result"
    }
   ],
   "source": [
    "coefficients(deriv=2, acc=10)"
   ]
  },
  {
   "cell_type": "markdown",
   "metadata": {},
   "source": [
    "#### Accuracy order\n",
    "\n",
    "If you want to use for example 10th order accuracy, just tell the `FinDiff` constructor to use it:"
   ]
  },
  {
   "cell_type": "code",
   "execution_count": 10,
   "metadata": {
    "collapsed": false,
    "jupyter": {
     "outputs_hidden": false
    }
   },
   "outputs": [],
   "source": [
    "from fdx import FinDiff\n",
    "\n",
    "d2_dx2 = FinDiff(0, dx, 2, acc=10)\n",
    "result = d2_dx2(f)"
   ]
  },
  {
   "cell_type": "markdown",
   "metadata": {},
   "source": [
    "## Simple 3D Cases"
   ]
  },
  {
   "cell_type": "markdown",
   "metadata": {},
   "source": [
    "Now let's differentiate a 3D-array `f` representing the function\n",
    "\n",
    "$$\n",
    "f(x, y, z) = \\sin(x) \\cos(y) \\sin(z) \n",
    "$$\n"
   ]
  },
  {
   "cell_type": "code",
   "execution_count": 11,
   "metadata": {},
   "outputs": [],
   "source": [
    "x, y, z = [jnp.linspace(0, 10, 100)]*3\n",
    "dx, dy, dz = x[1] - x[0], y[1] - y[0], z[1] - z[0]\n",
    "X, Y, Z = jnp.meshgrid(x, y, z, indexing='ij')\n",
    "f = jnp.sin(X) * jnp.cos(Y) * jnp.sin(Z)"
   ]
  },
  {
   "cell_type": "markdown",
   "metadata": {},
   "source": [
    "The partial derivatives $\\frac{\\partial f}{\\partial x}$ or $\\frac{\\partial f}{\\partial z}$ are given by"
   ]
  },
  {
   "cell_type": "code",
   "execution_count": 12,
   "metadata": {},
   "outputs": [],
   "source": [
    "d_dx = FinDiff(0, dx)\n",
    "d_dz = FinDiff(2, dz)"
   ]
  },
  {
   "cell_type": "markdown",
   "metadata": {},
   "source": [
    "The x-axis is the 0th axis, y, the first, z the 2nd, etc. The third mixed partial derivative $\\frac{\\partial^3 f}{\\partial x^2 \\partial y}$ is specified by two tuples as arguments, one for each partial derivative:"
   ]
  },
  {
   "cell_type": "code",
   "execution_count": 13,
   "metadata": {},
   "outputs": [
    {
     "data": {
      "text/html": [
       "<pre style=\"white-space:pre;overflow-x:auto;line-height:normal;font-family:Menlo,'DejaVu Sans Mono',consolas,'Courier New',monospace\"></pre>\n"
      ],
      "text/plain": []
     },
     "metadata": {},
     "output_type": "display_data"
    },
    {
     "data": {
      "text/html": [
       "<pre style=\"white-space:pre;overflow-x:auto;line-height:normal;font-family:Menlo,'DejaVu Sans Mono',consolas,'Courier New',monospace\"></pre>\n"
      ],
      "text/plain": []
     },
     "metadata": {},
     "output_type": "display_data"
    },
    {
     "ename": "NotFoundLookupError",
     "evalue": "`lmul(<Diff with shape=(0, 0), dtype=float32>, <Diff with shape=(1, 1), dtype=float32>)` could not be resolved.\n\nClosest candidates are the following:\n    lmul(a: \u001b[1;31mint | float | complex | numpy.number | jax.Array\u001b[0m, b: \u001b[38;5;248mlinox._linear_operator.\u001b[0m\u001b[1;38;5;248mLinearOperator\u001b[0m) ->         \n    \u001b[38;5;248mlinox._linear_operator.\u001b[0m\u001b[1;38;5;248mLinearOperator\u001b[0m                                                                          \n        <function lmul at 0x10c8d63e0> @ \u001b]8;id=689512;file:///Users/lenardrommel/repos/fdx/.venv/lib/python3.12/site-packages/linox/_arithmetic.py#46\u001b\\\u001b[37m~/repos/fdx/.venv/lib/python3.12/site-packages/linox/\u001b[0m\u001b]8;;\u001b\\\u001b]8;id=420143;file:///Users/lenardrommel/repos/fdx/.venv/lib/python3.12/site-packages/linox/_arithmetic.py#46\u001b\\\u001b[1;4;37m_arithmetic.py\u001b[0m\u001b]8;;\u001b\\\u001b]8;id=689512;file:///Users/lenardrommel/repos/fdx/.venv/lib/python3.12/site-packages/linox/_arithmetic.py#46\u001b\\\u001b[37m:46\u001b[0m\u001b]8;;\u001b\\    \n    lmul(a: \u001b[31mjax.\u001b[0m\u001b[1;31mArray\u001b[0m, b: \u001b[31mlinox._matrix.\u001b[0m\u001b[1;31mMatrix\u001b[0m) -> \u001b[38;5;248mlinox._matrix.\u001b[0m\u001b[1;38;5;248mMatrix\u001b[0m                                            \n        <function _ at 0x10c8e3240> @ \u001b]8;id=692356;file:///Users/lenardrommel/repos/fdx/.venv/lib/python3.12/site-packages/linox/_matrix.py#89\u001b\\\u001b[37m~/repos/fdx/.venv/lib/python3.12/site-packages/linox/\u001b[0m\u001b]8;;\u001b\\\u001b]8;id=930737;file:///Users/lenardrommel/repos/fdx/.venv/lib/python3.12/site-packages/linox/_matrix.py#89\u001b\\\u001b[1;4;37m_matrix.py\u001b[0m\u001b]8;;\u001b\\\u001b]8;id=692356;file:///Users/lenardrommel/repos/fdx/.venv/lib/python3.12/site-packages/linox/_matrix.py#89\u001b\\\u001b[37m:89\u001b[0m\u001b]8;;\u001b\\           \n    lmul(a: \u001b[31mjax.\u001b[0m\u001b[1;31mArray\u001b[0m, b: \u001b[31mlinox._matrix.\u001b[0m\u001b[1;31mDiagonal\u001b[0m) -> \u001b[38;5;248mlinox._matrix.\u001b[0m\u001b[1;38;5;248mDiagonal\u001b[0m                                        \n        <function _ at 0x10c90c680> @ \u001b]8;id=951558;file:///Users/lenardrommel/repos/fdx/.venv/lib/python3.12/site-packages/linox/_matrix.py#293\u001b\\\u001b[37m~/repos/fdx/.venv/lib/python3.12/site-packages/linox/\u001b[0m\u001b]8;;\u001b\\\u001b]8;id=880982;file:///Users/lenardrommel/repos/fdx/.venv/lib/python3.12/site-packages/linox/_matrix.py#293\u001b\\\u001b[1;4;37m_matrix.py\u001b[0m\u001b]8;;\u001b\\\u001b]8;id=951558;file:///Users/lenardrommel/repos/fdx/.venv/lib/python3.12/site-packages/linox/_matrix.py#293\u001b\\\u001b[37m:293\u001b[0m\u001b]8;;\u001b\\          \n",
     "output_type": "error",
     "traceback": [
      "\u001b[31m---------------------------------------------------------------------------\u001b[39m",
      "\u001b[31mNotFoundLookupError\u001b[39m                       Traceback (most recent call last)",
      "\u001b[36mCell\u001b[39m\u001b[36m \u001b[39m\u001b[32mIn[13]\u001b[39m\u001b[32m, line 1\u001b[39m\n\u001b[32m----> \u001b[39m\u001b[32m1\u001b[39m d3_dx2dy = \u001b[43mFinDiff\u001b[49m\u001b[43m(\u001b[49m\u001b[43m(\u001b[49m\u001b[32;43m0\u001b[39;49m\u001b[43m,\u001b[49m\u001b[43m \u001b[49m\u001b[43mdx\u001b[49m\u001b[43m,\u001b[49m\u001b[43m \u001b[49m\u001b[32;43m2\u001b[39;49m\u001b[43m)\u001b[49m\u001b[43m,\u001b[49m\u001b[43m \u001b[49m\u001b[43m(\u001b[49m\u001b[32;43m1\u001b[39;49m\u001b[43m,\u001b[49m\u001b[43m \u001b[49m\u001b[43mdy\u001b[49m\u001b[43m)\u001b[49m\u001b[43m)\u001b[49m\n\u001b[32m      2\u001b[39m result = d3_dx2dy(f)\n",
      "\u001b[36mFile \u001b[39m\u001b[32m~/repos/fdx/fdx/compatible.py:22\u001b[39m, in \u001b[36mFinDiff\u001b[39m\u001b[34m(*args, **kwargs)\u001b[39m\n\u001b[32m     20\u001b[39m     fd = diffs[\u001b[32m0\u001b[39m]\n\u001b[32m     21\u001b[39m     \u001b[38;5;28;01mfor\u001b[39;00m diff \u001b[38;5;129;01min\u001b[39;00m diffs[\u001b[32m1\u001b[39m:]:\n\u001b[32m---> \u001b[39m\u001b[32m22\u001b[39m         fd = \u001b[43mfd\u001b[49m\u001b[43m \u001b[49m\u001b[43m*\u001b[49m\u001b[43m \u001b[49m\u001b[43mdiff\u001b[49m\n\u001b[32m     23\u001b[39m     \u001b[38;5;28;01mreturn\u001b[39;00m fd\n\u001b[32m     25\u001b[39m \u001b[38;5;28;01mreturn\u001b[39;00m diff_from_tuple(args)\n",
      "\u001b[36mFile \u001b[39m\u001b[32m~/repos/fdx/fdx/operators.py:137\u001b[39m, in \u001b[36mDiff.__mul__\u001b[39m\u001b[34m(self, other)\u001b[39m\n\u001b[32m    135\u001b[39m     new_diff._order += other.order\n\u001b[32m    136\u001b[39m     \u001b[38;5;28;01mreturn\u001b[39;00m new_diff\n\u001b[32m--> \u001b[39m\u001b[32m137\u001b[39m \u001b[38;5;28;01mreturn\u001b[39;00m \u001b[38;5;28;43msuper\u001b[39;49m\u001b[43m(\u001b[49m\u001b[43m)\u001b[49m\u001b[43m.\u001b[49m\u001b[34;43m__mul__\u001b[39;49m\u001b[43m(\u001b[49m\u001b[43mother\u001b[49m\u001b[43m)\u001b[49m\n",
      "\u001b[36mFile \u001b[39m\u001b[32m~/repos/fdx/.venv/lib/python3.12/site-packages/linox/_linear_operator.py:168\u001b[39m, in \u001b[36mLinearOperator.__mul__\u001b[39m\u001b[34m(self, other)\u001b[39m\n\u001b[32m    165\u001b[39m \u001b[38;5;28;01mdef\u001b[39;00m\u001b[38;5;250m \u001b[39m\u001b[34m__mul__\u001b[39m(\u001b[38;5;28mself\u001b[39m, other: BinaryOperandType) -> \u001b[33m\"\u001b[39m\u001b[33mLinearOperator\u001b[39m\u001b[33m\"\u001b[39m:\n\u001b[32m    166\u001b[39m     \u001b[38;5;28;01mfrom\u001b[39;00m\u001b[38;5;250m \u001b[39m\u001b[34;01m.\u001b[39;00m\u001b[34;01m_arithmetic\u001b[39;00m\u001b[38;5;250m \u001b[39m\u001b[38;5;28;01mimport\u001b[39;00m lmul  \u001b[38;5;66;03m# noqa: PLC0415\u001b[39;00m\n\u001b[32m--> \u001b[39m\u001b[32m168\u001b[39m     \u001b[38;5;28;01mreturn\u001b[39;00m \u001b[43mlmul\u001b[49m\u001b[43m(\u001b[49m\u001b[38;5;28;43mself\u001b[39;49m\u001b[43m,\u001b[49m\u001b[43m \u001b[49m\u001b[43mother\u001b[49m\u001b[43m)\u001b[49m\n",
      "    \u001b[31m[... skipping hidden 3 frame]\u001b[39m\n",
      "\u001b[36mFile \u001b[39m\u001b[32m~/repos/fdx/.venv/lib/python3.12/site-packages/plum/function.py:342\u001b[39m, in \u001b[36mFunction._handle_not_found_lookup_error\u001b[39m\u001b[34m(self, ex)\u001b[39m\n\u001b[32m    337\u001b[39m \u001b[38;5;28;01mdef\u001b[39;00m\u001b[38;5;250m \u001b[39m\u001b[34m_handle_not_found_lookup_error\u001b[39m(\n\u001b[32m    338\u001b[39m     \u001b[38;5;28mself\u001b[39m, ex: NotFoundLookupError\n\u001b[32m    339\u001b[39m ) -> Tuple[Callable, TypeHint]:\n\u001b[32m    340\u001b[39m     \u001b[38;5;28;01mif\u001b[39;00m \u001b[38;5;129;01mnot\u001b[39;00m \u001b[38;5;28mself\u001b[39m.owner:\n\u001b[32m    341\u001b[39m         \u001b[38;5;66;03m# Not in a class. Nothing we can do.\u001b[39;00m\n\u001b[32m--> \u001b[39m\u001b[32m342\u001b[39m         \u001b[38;5;28;01mraise\u001b[39;00m ex \u001b[38;5;28;01mfrom\u001b[39;00m\u001b[38;5;250m \u001b[39m\u001b[38;5;28;01mNone\u001b[39;00m\n\u001b[32m    344\u001b[39m     \u001b[38;5;66;03m# In a class. Walk through the classes in the class's MRO, except for this\u001b[39;00m\n\u001b[32m    345\u001b[39m     \u001b[38;5;66;03m# class, and try to get the method.\u001b[39;00m\n\u001b[32m    346\u001b[39m     method = \u001b[38;5;28;01mNone\u001b[39;00m\n",
      "    \u001b[31m[... skipping hidden 1 frame]\u001b[39m\n",
      "\u001b[36mFile \u001b[39m\u001b[32m~/repos/fdx/.venv/lib/python3.12/site-packages/plum/resolver.py:377\u001b[39m, in \u001b[36mResolver.resolve\u001b[39m\u001b[34m(self, target)\u001b[39m\n\u001b[32m    373\u001b[39m         candidates = new_candidates\n\u001b[32m    375\u001b[39m \u001b[38;5;28;01mif\u001b[39;00m \u001b[38;5;28mlen\u001b[39m(candidates) == \u001b[32m0\u001b[39m:\n\u001b[32m    376\u001b[39m     \u001b[38;5;66;03m# There is no matching signature.\u001b[39;00m\n\u001b[32m--> \u001b[39m\u001b[32m377\u001b[39m     \u001b[38;5;28;01mraise\u001b[39;00m NotFoundLookupError(\u001b[38;5;28mself\u001b[39m.function_name, target, \u001b[38;5;28mself\u001b[39m.methods)\n\u001b[32m    379\u001b[39m \u001b[38;5;28;01melif\u001b[39;00m \u001b[38;5;28mlen\u001b[39m(candidates) == \u001b[32m1\u001b[39m:\n\u001b[32m    380\u001b[39m     \u001b[38;5;66;03m# There is exactly one matching signature. Success!\u001b[39;00m\n\u001b[32m    381\u001b[39m     \u001b[38;5;28;01mreturn\u001b[39;00m candidates[\u001b[32m0\u001b[39m]\n",
      "\u001b[31mNotFoundLookupError\u001b[39m: `lmul(<Diff with shape=(0, 0), dtype=float32>, <Diff with shape=(1, 1), dtype=float32>)` could not be resolved.\n\nClosest candidates are the following:\n    lmul(a: \u001b[1;31mint | float | complex | numpy.number | jax.Array\u001b[0m, b: \u001b[38;5;248mlinox._linear_operator.\u001b[0m\u001b[1;38;5;248mLinearOperator\u001b[0m) ->         \n    \u001b[38;5;248mlinox._linear_operator.\u001b[0m\u001b[1;38;5;248mLinearOperator\u001b[0m                                                                          \n        <function lmul at 0x10c8d63e0> @ \u001b]8;id=923744;file:///Users/lenardrommel/repos/fdx/.venv/lib/python3.12/site-packages/linox/_arithmetic.py#46\u001b\\\u001b[37m~/repos/fdx/.venv/lib/python3.12/site-packages/linox/\u001b[0m\u001b]8;;\u001b\\\u001b]8;id=20038;file:///Users/lenardrommel/repos/fdx/.venv/lib/python3.12/site-packages/linox/_arithmetic.py#46\u001b\\\u001b[1;4;37m_arithmetic.py\u001b[0m\u001b]8;;\u001b\\\u001b]8;id=923744;file:///Users/lenardrommel/repos/fdx/.venv/lib/python3.12/site-packages/linox/_arithmetic.py#46\u001b\\\u001b[37m:46\u001b[0m\u001b]8;;\u001b\\    \n    lmul(a: \u001b[31mjax.\u001b[0m\u001b[1;31mArray\u001b[0m, b: \u001b[31mlinox._matrix.\u001b[0m\u001b[1;31mMatrix\u001b[0m) -> \u001b[38;5;248mlinox._matrix.\u001b[0m\u001b[1;38;5;248mMatrix\u001b[0m                                            \n        <function _ at 0x10c8e3240> @ \u001b]8;id=874220;file:///Users/lenardrommel/repos/fdx/.venv/lib/python3.12/site-packages/linox/_matrix.py#89\u001b\\\u001b[37m~/repos/fdx/.venv/lib/python3.12/site-packages/linox/\u001b[0m\u001b]8;;\u001b\\\u001b]8;id=107621;file:///Users/lenardrommel/repos/fdx/.venv/lib/python3.12/site-packages/linox/_matrix.py#89\u001b\\\u001b[1;4;37m_matrix.py\u001b[0m\u001b]8;;\u001b\\\u001b]8;id=874220;file:///Users/lenardrommel/repos/fdx/.venv/lib/python3.12/site-packages/linox/_matrix.py#89\u001b\\\u001b[37m:89\u001b[0m\u001b]8;;\u001b\\           \n    lmul(a: \u001b[31mjax.\u001b[0m\u001b[1;31mArray\u001b[0m, b: \u001b[31mlinox._matrix.\u001b[0m\u001b[1;31mDiagonal\u001b[0m) -> \u001b[38;5;248mlinox._matrix.\u001b[0m\u001b[1;38;5;248mDiagonal\u001b[0m                                        \n        <function _ at 0x10c90c680> @ \u001b]8;id=318101;file:///Users/lenardrommel/repos/fdx/.venv/lib/python3.12/site-packages/linox/_matrix.py#293\u001b\\\u001b[37m~/repos/fdx/.venv/lib/python3.12/site-packages/linox/\u001b[0m\u001b]8;;\u001b\\\u001b]8;id=408371;file:///Users/lenardrommel/repos/fdx/.venv/lib/python3.12/site-packages/linox/_matrix.py#293\u001b\\\u001b[1;4;37m_matrix.py\u001b[0m\u001b]8;;\u001b\\\u001b]8;id=318101;file:///Users/lenardrommel/repos/fdx/.venv/lib/python3.12/site-packages/linox/_matrix.py#293\u001b\\\u001b[37m:293\u001b[0m\u001b]8;;\u001b\\          \n"
     ]
    },
    {
     "data": {
      "text/html": [
       "<pre style=\"white-space:pre;overflow-x:auto;line-height:normal;font-family:Menlo,'DejaVu Sans Mono',consolas,'Courier New',monospace\"></pre>\n"
      ],
      "text/plain": []
     },
     "metadata": {},
     "output_type": "display_data"
    },
    {
     "data": {
      "text/html": [
       "<pre style=\"white-space:pre;overflow-x:auto;line-height:normal;font-family:Menlo,'DejaVu Sans Mono',consolas,'Courier New',monospace\"></pre>\n"
      ],
      "text/plain": []
     },
     "metadata": {},
     "output_type": "display_data"
    },
    {
     "data": {
      "text/html": [
       "<pre style=\"white-space:pre;overflow-x:auto;line-height:normal;font-family:Menlo,'DejaVu Sans Mono',consolas,'Courier New',monospace\"></pre>\n"
      ],
      "text/plain": []
     },
     "metadata": {},
     "output_type": "display_data"
    }
   ],
   "source": [
    "d3_dx2dy = FinDiff((0, dx, 2), (1, dy))\n",
    "result = d3_dx2dy(f)"
   ]
  },
  {
   "cell_type": "markdown",
   "metadata": {},
   "source": [
    "Of course, the accuracy order can be specified the same way as for 1D."
   ]
  },
  {
   "cell_type": "markdown",
   "metadata": {},
   "source": [
    "## General Linear Differential Operators\n",
    "\n",
    "`FinDiff` objects can bei added and easily multiplied by numbers. For example, to express\n",
    "\n",
    "$$\n",
    "\\frac{\\partial^2}{\\partial x^2} + 2\\frac{\\partial^2}{\\partial x \\partial y} + \\frac{\\partial^2}{\\partial y^2} =\n",
    "\\left(\\frac{\\partial}{\\partial x} + \\frac{\\partial}{\\partial y}\\right) \\left(\\frac{\\partial}{\\partial x} + \\frac{\\partial}{\\partial y}\\right)\n",
    "$$\n",
    "\n",
    "we can say"
   ]
  },
  {
   "cell_type": "code",
   "execution_count": 2,
   "metadata": {
    "collapsed": false,
    "jupyter": {
     "outputs_hidden": false
    }
   },
   "outputs": [
    {
     "ename": "NameError",
     "evalue": "name 'FinDiff' is not defined",
     "output_type": "error",
     "traceback": [
      "\u001b[31m---------------------------------------------------------------------------\u001b[39m",
      "\u001b[31mNameError\u001b[39m                                 Traceback (most recent call last)",
      "\u001b[36mCell\u001b[39m\u001b[36m \u001b[39m\u001b[32mIn[2]\u001b[39m\u001b[32m, line 1\u001b[39m\n\u001b[32m----> \u001b[39m\u001b[32m1\u001b[39m linear_op = \u001b[43mFinDiff\u001b[49m(\u001b[32m0\u001b[39m, dx, \u001b[32m2\u001b[39m) + \u001b[32m2\u001b[39m * FinDiff((\u001b[32m0\u001b[39m, dx), (\u001b[32m1\u001b[39m, dy)) + FinDiff(\u001b[32m1\u001b[39m, dy, \u001b[32m2\u001b[39m)\n",
      "\u001b[31mNameError\u001b[39m: name 'FinDiff' is not defined"
     ]
    }
   ],
   "source": [
    "linear_op = FinDiff(0, dx, 2) + 2 * FinDiff((0, dx), (1, dy)) + FinDiff(1, dy, 2)"
   ]
  },
  {
   "cell_type": "markdown",
   "metadata": {},
   "source": [
    "#### Variable Coefficients\n",
    "\n",
    "If you want to multiply by variables instead of plain numbers, you have to encapsulate the variable in a `Coefficient` object. For example, \n",
    "\n",
    "$$\n",
    "x \\frac{\\partial}{\\partial x} + y^2 \\frac{\\partial}{\\partial y}\n",
    "$$\n",
    "\n",
    "is"
   ]
  },
  {
   "cell_type": "code",
   "execution_count": 15,
   "metadata": {},
   "outputs": [
    {
     "ename": "ImportError",
     "evalue": "cannot import name 'Coefficient' from 'fdx' (/Users/lenardrommel/repos/fdx/fdx/__init__.py)",
     "output_type": "error",
     "traceback": [
      "\u001b[31m---------------------------------------------------------------------------\u001b[39m",
      "\u001b[31mImportError\u001b[39m                               Traceback (most recent call last)",
      "\u001b[36mCell\u001b[39m\u001b[36m \u001b[39m\u001b[32mIn[15]\u001b[39m\u001b[32m, line 1\u001b[39m\n\u001b[32m----> \u001b[39m\u001b[32m1\u001b[39m \u001b[38;5;28;01mfrom\u001b[39;00m\u001b[38;5;250m \u001b[39m\u001b[34;01mfdx\u001b[39;00m\u001b[38;5;250m \u001b[39m\u001b[38;5;28;01mimport\u001b[39;00m Coefficient\n\u001b[32m      3\u001b[39m linear_op = Coefficient(X) * FinDiff(\u001b[32m0\u001b[39m, dx) + Coefficient(Y**\u001b[32m2\u001b[39m) * FinDiff(\u001b[32m1\u001b[39m, dy)\n",
      "\u001b[31mImportError\u001b[39m: cannot import name 'Coefficient' from 'fdx' (/Users/lenardrommel/repos/fdx/fdx/__init__.py)"
     ]
    }
   ],
   "source": [
    "from fdx import Coefficient\n",
    "\n",
    "linear_op = Coefficient(X) * FinDiff(0, dx) + Coefficient(Y**2) * FinDiff(1, dy)"
   ]
  },
  {
   "cell_type": "markdown",
   "metadata": {},
   "source": [
    "Applying those general operators works the same way as for the simple derivatives:"
   ]
  },
  {
   "cell_type": "code",
   "execution_count": 26,
   "metadata": {},
   "outputs": [],
   "source": [
    "result = linear_op(f)"
   ]
  }
 ],
 "metadata": {
  "kernelspec": {
   "display_name": ".venv (3.12.3)",
   "language": "python",
   "name": "python3"
  },
  "language_info": {
   "codemirror_mode": {
    "name": "ipython",
    "version": 3
   },
   "file_extension": ".py",
   "mimetype": "text/x-python",
   "name": "python",
   "nbconvert_exporter": "python",
   "pygments_lexer": "ipython3",
   "version": "3.12.3"
  }
 },
 "nbformat": 4,
 "nbformat_minor": 4
}
